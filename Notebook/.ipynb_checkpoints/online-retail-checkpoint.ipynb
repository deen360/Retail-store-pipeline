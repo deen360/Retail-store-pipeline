{
 "cells": [
  {
   "cell_type": "code",
   "execution_count": 116,
   "metadata": {},
   "outputs": [],
   "source": [
    "#install google-cloud-storage\n",
    "#!pip install google-cloud-storage"
   ]
  },
  {
   "cell_type": "code",
   "execution_count": 117,
   "metadata": {},
   "outputs": [],
   "source": [
    "#this is to find where spark is installed on my system\n",
    "import findspark\n",
    "findspark.init()"
   ]
  },
  {
   "cell_type": "code",
   "execution_count": 118,
   "metadata": {},
   "outputs": [],
   "source": [
    "#import pyspark\n",
    "import pyspark\n",
    "from pyspark.sql import SparkSession"
   ]
  },
  {
   "cell_type": "code",
   "execution_count": 119,
   "metadata": {},
   "outputs": [],
   "source": [
    "#import gcs storage and pandas \n",
    "from google.cloud import storage\n",
    "import pandas as pd"
   ]
  },
  {
   "cell_type": "code",
   "execution_count": 120,
   "metadata": {},
   "outputs": [],
   "source": [
    "#import local engine spark builder\n",
    "spark = SparkSession.builder \\\n",
    "    .master(\"local[*]\") \\\n",
    "    .appName('test') \\\n",
    "    .getOrCreate()"
   ]
  },
  {
   "cell_type": "code",
   "execution_count": 121,
   "metadata": {},
   "outputs": [],
   "source": [
    "#we define the file to download from the bucket in GCS\n",
    "#https://cloud.google.com/storage/docs/downloading-objects#storage-download-object-python\n",
    "def download_blob(bucket_name, source_blob_name, destination_file_name):\n",
    "    storage_client = storage.Client()\n",
    "    bucket = storage_client.bucket(bucket_name)\n",
    "    blob = bucket.blob(source_blob_name)\n",
    "    blob.download_to_filename(destination_file_name)\n",
    "    print(\n",
    "        \"Downloaded storage object {} from bucket {} to local file {}.\".format(\n",
    "            source_blob_name, bucket_name, destination_file_name\n",
    "        )\n",
    "    )"
   ]
  },
  {
   "cell_type": "code",
   "execution_count": 122,
   "metadata": {},
   "outputs": [
    {
     "name": "stdout",
     "output_type": "stream",
     "text": [
      "Downloaded storage object kaggle/mashlyn/online_retail_II.parquet from bucket online-retail11401 to local file /home/deen/Desktop/dphi/project/Notebook/dataset/online_retail.parquet.\n"
     ]
    }
   ],
   "source": [
    "#download the file from GCS to a folder in the local machine\n",
    "bucket_name =\"online-retail11401\"\n",
    "source_blob_name = \"kaggle/mashlyn/online_retail_II.parquet\"\n",
    "destination_file_name =\"/home/deen/Desktop/dphi/project/Notebook/dataset/online_retail.parquet\"\n",
    "download_blob(bucket_name, source_blob_name, destination_file_name)"
   ]
  },
  {
   "cell_type": "code",
   "execution_count": 123,
   "metadata": {
    "collapsed": true
   },
   "outputs": [
    {
     "data": {
      "text/html": [
       "<div>\n",
       "<style scoped>\n",
       "    .dataframe tbody tr th:only-of-type {\n",
       "        vertical-align: middle;\n",
       "    }\n",
       "\n",
       "    .dataframe tbody tr th {\n",
       "        vertical-align: top;\n",
       "    }\n",
       "\n",
       "    .dataframe thead th {\n",
       "        text-align: right;\n",
       "    }\n",
       "</style>\n",
       "<table border=\"1\" class=\"dataframe\">\n",
       "  <thead>\n",
       "    <tr style=\"text-align: right;\">\n",
       "      <th></th>\n",
       "      <th>Invoice</th>\n",
       "      <th>StockCode</th>\n",
       "      <th>Description</th>\n",
       "      <th>Quantity</th>\n",
       "      <th>InvoiceDate</th>\n",
       "      <th>Price</th>\n",
       "      <th>Customer ID</th>\n",
       "      <th>Country</th>\n",
       "    </tr>\n",
       "  </thead>\n",
       "  <tbody>\n",
       "    <tr>\n",
       "      <th>0</th>\n",
       "      <td>489434</td>\n",
       "      <td>85048</td>\n",
       "      <td>15CM CHRISTMAS GLASS BALL 20 LIGHTS</td>\n",
       "      <td>12</td>\n",
       "      <td>2009-12-01 07:45:00</td>\n",
       "      <td>6.95</td>\n",
       "      <td>13085.0</td>\n",
       "      <td>United Kingdom</td>\n",
       "    </tr>\n",
       "    <tr>\n",
       "      <th>1</th>\n",
       "      <td>489434</td>\n",
       "      <td>79323P</td>\n",
       "      <td>PINK CHERRY LIGHTS</td>\n",
       "      <td>12</td>\n",
       "      <td>2009-12-01 07:45:00</td>\n",
       "      <td>6.75</td>\n",
       "      <td>13085.0</td>\n",
       "      <td>United Kingdom</td>\n",
       "    </tr>\n",
       "    <tr>\n",
       "      <th>2</th>\n",
       "      <td>489434</td>\n",
       "      <td>79323W</td>\n",
       "      <td>WHITE CHERRY LIGHTS</td>\n",
       "      <td>12</td>\n",
       "      <td>2009-12-01 07:45:00</td>\n",
       "      <td>6.75</td>\n",
       "      <td>13085.0</td>\n",
       "      <td>United Kingdom</td>\n",
       "    </tr>\n",
       "    <tr>\n",
       "      <th>3</th>\n",
       "      <td>489434</td>\n",
       "      <td>22041</td>\n",
       "      <td>RECORD FRAME 7\" SINGLE SIZE</td>\n",
       "      <td>48</td>\n",
       "      <td>2009-12-01 07:45:00</td>\n",
       "      <td>2.10</td>\n",
       "      <td>13085.0</td>\n",
       "      <td>United Kingdom</td>\n",
       "    </tr>\n",
       "    <tr>\n",
       "      <th>4</th>\n",
       "      <td>489434</td>\n",
       "      <td>21232</td>\n",
       "      <td>STRAWBERRY CERAMIC TRINKET BOX</td>\n",
       "      <td>24</td>\n",
       "      <td>2009-12-01 07:45:00</td>\n",
       "      <td>1.25</td>\n",
       "      <td>13085.0</td>\n",
       "      <td>United Kingdom</td>\n",
       "    </tr>\n",
       "    <tr>\n",
       "      <th>...</th>\n",
       "      <td>...</td>\n",
       "      <td>...</td>\n",
       "      <td>...</td>\n",
       "      <td>...</td>\n",
       "      <td>...</td>\n",
       "      <td>...</td>\n",
       "      <td>...</td>\n",
       "      <td>...</td>\n",
       "    </tr>\n",
       "    <tr>\n",
       "      <th>1067366</th>\n",
       "      <td>581587</td>\n",
       "      <td>22899</td>\n",
       "      <td>CHILDREN'S APRON DOLLY GIRL</td>\n",
       "      <td>6</td>\n",
       "      <td>2011-12-09 12:50:00</td>\n",
       "      <td>2.10</td>\n",
       "      <td>12680.0</td>\n",
       "      <td>France</td>\n",
       "    </tr>\n",
       "    <tr>\n",
       "      <th>1067367</th>\n",
       "      <td>581587</td>\n",
       "      <td>23254</td>\n",
       "      <td>CHILDRENS CUTLERY DOLLY GIRL</td>\n",
       "      <td>4</td>\n",
       "      <td>2011-12-09 12:50:00</td>\n",
       "      <td>4.15</td>\n",
       "      <td>12680.0</td>\n",
       "      <td>France</td>\n",
       "    </tr>\n",
       "    <tr>\n",
       "      <th>1067368</th>\n",
       "      <td>581587</td>\n",
       "      <td>23255</td>\n",
       "      <td>CHILDRENS CUTLERY CIRCUS PARADE</td>\n",
       "      <td>4</td>\n",
       "      <td>2011-12-09 12:50:00</td>\n",
       "      <td>4.15</td>\n",
       "      <td>12680.0</td>\n",
       "      <td>France</td>\n",
       "    </tr>\n",
       "    <tr>\n",
       "      <th>1067369</th>\n",
       "      <td>581587</td>\n",
       "      <td>22138</td>\n",
       "      <td>BAKING SET 9 PIECE RETROSPOT</td>\n",
       "      <td>3</td>\n",
       "      <td>2011-12-09 12:50:00</td>\n",
       "      <td>4.95</td>\n",
       "      <td>12680.0</td>\n",
       "      <td>France</td>\n",
       "    </tr>\n",
       "    <tr>\n",
       "      <th>1067370</th>\n",
       "      <td>581587</td>\n",
       "      <td>POST</td>\n",
       "      <td>POSTAGE</td>\n",
       "      <td>1</td>\n",
       "      <td>2011-12-09 12:50:00</td>\n",
       "      <td>18.00</td>\n",
       "      <td>12680.0</td>\n",
       "      <td>France</td>\n",
       "    </tr>\n",
       "  </tbody>\n",
       "</table>\n",
       "<p>1067371 rows × 8 columns</p>\n",
       "</div>"
      ],
      "text/plain": [
       "        Invoice StockCode                          Description  Quantity  \\\n",
       "0        489434     85048  15CM CHRISTMAS GLASS BALL 20 LIGHTS        12   \n",
       "1        489434    79323P                   PINK CHERRY LIGHTS        12   \n",
       "2        489434    79323W                  WHITE CHERRY LIGHTS        12   \n",
       "3        489434     22041         RECORD FRAME 7\" SINGLE SIZE         48   \n",
       "4        489434     21232       STRAWBERRY CERAMIC TRINKET BOX        24   \n",
       "...         ...       ...                                  ...       ...   \n",
       "1067366  581587     22899         CHILDREN'S APRON DOLLY GIRL          6   \n",
       "1067367  581587     23254        CHILDRENS CUTLERY DOLLY GIRL          4   \n",
       "1067368  581587     23255      CHILDRENS CUTLERY CIRCUS PARADE         4   \n",
       "1067369  581587     22138        BAKING SET 9 PIECE RETROSPOT          3   \n",
       "1067370  581587      POST                              POSTAGE         1   \n",
       "\n",
       "                InvoiceDate  Price  Customer ID         Country  \n",
       "0       2009-12-01 07:45:00   6.95      13085.0  United Kingdom  \n",
       "1       2009-12-01 07:45:00   6.75      13085.0  United Kingdom  \n",
       "2       2009-12-01 07:45:00   6.75      13085.0  United Kingdom  \n",
       "3       2009-12-01 07:45:00   2.10      13085.0  United Kingdom  \n",
       "4       2009-12-01 07:45:00   1.25      13085.0  United Kingdom  \n",
       "...                     ...    ...          ...             ...  \n",
       "1067366 2011-12-09 12:50:00   2.10      12680.0          France  \n",
       "1067367 2011-12-09 12:50:00   4.15      12680.0          France  \n",
       "1067368 2011-12-09 12:50:00   4.15      12680.0          France  \n",
       "1067369 2011-12-09 12:50:00   4.95      12680.0          France  \n",
       "1067370 2011-12-09 12:50:00  18.00      12680.0          France  \n",
       "\n",
       "[1067371 rows x 8 columns]"
      ]
     },
     "execution_count": 123,
     "metadata": {},
     "output_type": "execute_result"
    }
   ],
   "source": [
    "#read the dateframe with pandas \n",
    "df = pd.read_parquet('dataset/online_retail.parquet')\n",
    "df = pd.DataFrame(df) \n",
    "df"
   ]
  },
  {
   "cell_type": "code",
   "execution_count": 124,
   "metadata": {},
   "outputs": [],
   "source": [
    "#we transform the pandas Dataframe to a Spark Dataframe\n",
    "df_spark = spark.createDataFrame(df)"
   ]
  },
  {
   "cell_type": "code",
   "execution_count": 125,
   "metadata": {
    "collapsed": true
   },
   "outputs": [
    {
     "name": "stdout",
     "output_type": "stream",
     "text": [
      "+-------+---------+--------------------+--------+-------------------+-----+-----------+--------------+\n",
      "|Invoice|StockCode|         Description|Quantity|        InvoiceDate|Price|Customer ID|       Country|\n",
      "+-------+---------+--------------------+--------+-------------------+-----+-----------+--------------+\n",
      "| 489434|    85048|15CM CHRISTMAS GL...|      12|2009-12-01 07:45:00| 6.95|    13085.0|United Kingdom|\n",
      "| 489434|   79323P|  PINK CHERRY LIGHTS|      12|2009-12-01 07:45:00| 6.75|    13085.0|United Kingdom|\n",
      "| 489434|   79323W| WHITE CHERRY LIGHTS|      12|2009-12-01 07:45:00| 6.75|    13085.0|United Kingdom|\n",
      "| 489434|    22041|RECORD FRAME 7\" S...|      48|2009-12-01 07:45:00|  2.1|    13085.0|United Kingdom|\n",
      "| 489434|    21232|STRAWBERRY CERAMI...|      24|2009-12-01 07:45:00| 1.25|    13085.0|United Kingdom|\n",
      "| 489434|    22064|PINK DOUGHNUT TRI...|      24|2009-12-01 07:45:00| 1.65|    13085.0|United Kingdom|\n",
      "| 489434|    21871| SAVE THE PLANET MUG|      24|2009-12-01 07:45:00| 1.25|    13085.0|United Kingdom|\n",
      "| 489434|    21523|FANCY FONT HOME S...|      10|2009-12-01 07:45:00| 5.95|    13085.0|United Kingdom|\n",
      "| 489435|    22350|           CAT BOWL |      12|2009-12-01 07:46:00| 2.55|    13085.0|United Kingdom|\n",
      "| 489435|    22349|DOG BOWL , CHASIN...|      12|2009-12-01 07:46:00| 3.75|    13085.0|United Kingdom|\n",
      "| 489435|    22195|HEART MEASURING S...|      24|2009-12-01 07:46:00| 1.65|    13085.0|United Kingdom|\n",
      "| 489435|    22353|LUNCHBOX WITH CUT...|      12|2009-12-01 07:46:00| 2.55|    13085.0|United Kingdom|\n",
      "| 489436|   48173C|DOOR MAT BLACK FL...|      10|2009-12-01 09:06:00| 5.95|    13078.0|United Kingdom|\n",
      "| 489436|    21755|LOVE BUILDING BLO...|      18|2009-12-01 09:06:00| 5.45|    13078.0|United Kingdom|\n",
      "| 489436|    21754|HOME BUILDING BLO...|       3|2009-12-01 09:06:00| 5.95|    13078.0|United Kingdom|\n",
      "| 489436|    84879|ASSORTED COLOUR B...|      16|2009-12-01 09:06:00| 1.69|    13078.0|United Kingdom|\n",
      "| 489436|    22119| PEACE WOODEN BLO...|       3|2009-12-01 09:06:00| 6.95|    13078.0|United Kingdom|\n",
      "| 489436|    22142|CHRISTMAS CRAFT W...|      12|2009-12-01 09:06:00| 1.45|    13078.0|United Kingdom|\n",
      "| 489436|    22296|HEART IVORY TRELL...|      12|2009-12-01 09:06:00| 1.65|    13078.0|United Kingdom|\n",
      "| 489436|    22295|HEART FILIGREE DO...|      12|2009-12-01 09:06:00| 1.65|    13078.0|United Kingdom|\n",
      "+-------+---------+--------------------+--------+-------------------+-----+-----------+--------------+\n",
      "only showing top 20 rows\n",
      "\n"
     ]
    }
   ],
   "source": [
    "#shows the spark dataframe\n",
    "df_spark.show()"
   ]
  },
  {
   "cell_type": "code",
   "execution_count": 132,
   "metadata": {},
   "outputs": [],
   "source": [
    "#import types to shape the schema headings \n",
    "from pyspark.sql.types import *\n",
    "from pyspark.sql import functions as F\n"
   ]
  },
  {
   "cell_type": "code",
   "execution_count": 133,
   "metadata": {},
   "outputs": [],
   "source": [
    "#casting each data into their Datatype and we write the output as df_spark\n",
    "df_spark \\\n",
    "    .withColumnRenamed(\"Customer ID\",\"CustomerID\")\\\n",
    "    .withColumn(\"CustomerID\",F.col(\"CustomerID\").cast(IntegerType()))\\\n",
    "    .withColumn(\"Invoice\",F.col(\"Invoice\").cast(StringType()))\\\n",
    "    .withColumn(\"StockCode\",F.col(\"StockCode\").cast(StringType()))\\\n",
    "    .withColumn(\"Description\",F.col(\"Description\").cast(StringType()))\\\n",
    "    .withColumn(\"Quantity\",F.col(\"Quantity\").cast(IntegerType()))\\\n",
    "    .withColumn(\"InvoiceDate\",F.col(\"InvoiceDate\").cast(TimestampType()))\\\n",
    "    .withColumn(\"Price\",F.col(\"Price\").cast(DoubleType()))\\\n",
    "    .withColumn(\"Country\",F.col(\"Country\").cast(StringType()))\\\n",
    "    .repartition(10) \\\n",
    "    .write.parquet('df_spark', mode='overwrite')\n",
    "\n"
   ]
  },
  {
   "cell_type": "code",
   "execution_count": 134,
   "metadata": {},
   "outputs": [],
   "source": [
    "#reading the new_data we wrote (df_spark)\n",
    "df_spark_retail  = spark.read \\\n",
    "    .option(\"header\", \"true\") \\\n",
    "    .parquet('df_spark')"
   ]
  },
  {
   "cell_type": "code",
   "execution_count": 135,
   "metadata": {},
   "outputs": [
    {
     "name": "stdout",
     "output_type": "stream",
     "text": [
      "+-------+---------+--------------------+--------+-------------------+-----+----------+--------------+\n",
      "|Invoice|StockCode|         Description|Quantity|        InvoiceDate|Price|CustomerID|       Country|\n",
      "+-------+---------+--------------------+--------+-------------------+-----+----------+--------------+\n",
      "| 499897|   85230A|OPIUM SCENTED VOT...|      48|2010-03-03 11:53:00| 0.21|     14298|United Kingdom|\n",
      "| 505453|    21973|SET OF 36 MUSHROO...|      24|2010-04-22 11:33:00| 1.45|     12625|       Germany|\n",
      "| 501103|   84970S|HANGING HEART ZIN...|      12|2010-03-12 13:07:00| 0.85|     14824|United Kingdom|\n",
      "| 513750|   47591D|PINK FAIRY CAKE C...|       3|2010-06-28 12:38:00| 1.95|     17019|United Kingdom|\n",
      "| 509536|    22621|TRADITIONAL KNITT...|      12|2010-05-24 12:21:00| 1.45|     14911|          EIRE|\n",
      "| 500356|    21775|DECORATIVE FLORE ...|       6|2010-03-07 15:34:00| 1.25|     16984|United Kingdom|\n",
      "| 503549|    21507|ELEPHANT, BIRTHDA...|       1|2010-04-01 15:04:00| 0.85|         0|United Kingdom|\n",
      "| 509170|    22634|CHILDS BREAKFAST ...|       8|2010-05-20 15:09:00|  8.5|     16705|United Kingdom|\n",
      "| 510331|    22083|PAPER CHAIN KIT R...|      12|2010-05-28 13:57:00| 2.95|     13081|United Kingdom|\n",
      "| 496581|    21437|24 HANGING EASTER...|       1|2010-02-02 13:53:00| 3.75|     12748|United Kingdom|\n",
      "| 502293|   82613A|METAL SIGN,CUPCAK...|       8|2010-03-24 08:55:00| 1.25|     13896|United Kingdom|\n",
      "| 502565|    22150|3 STRIPEY MICE FE...|       6|2010-03-25 12:03:00| 1.95|     13849|United Kingdom|\n",
      "| 498035|    21869|POTTING SHED COFF...|      12|2010-02-16 10:10:00| 1.25|     18172|United Kingdom|\n",
      "| 489904|    84670|JAPANESE CROCHETE...|      24|2009-12-03 10:02:00| 0.42|     13979|United Kingdom|\n",
      "| 512528|    22558|CLOTHES PEGS RETR...|       1|2010-06-16 11:54:00| 1.25|     17952|United Kingdom|\n",
      "| 499765|    21165|BEWARE OF THE CAT...|       1|2010-03-02 13:15:00| 4.21|         0|United Kingdom|\n",
      "| 515013|    37450|CERAMIC CAKE BOWL...|       6|2010-07-07 16:29:00| 5.91|         0|United Kingdom|\n",
      "| 508202|    22378|WALL TIDY RETROSPOT |      10|2010-05-13 14:18:00|  2.1|     17416|United Kingdom|\n",
      "| 507116|    22077|6 RIBBONS RUSTIC ...|       1|2010-05-06 11:30:00| 3.36|         0|United Kingdom|\n",
      "| 509739|   85123A|WHITE HANGING HEA...|       6|2010-05-25 12:46:00| 2.95|     13266|United Kingdom|\n",
      "+-------+---------+--------------------+--------+-------------------+-----+----------+--------------+\n",
      "only showing top 20 rows\n",
      "\n"
     ]
    }
   ],
   "source": [
    "df_spark_retail.show()"
   ]
  },
  {
   "cell_type": "code",
   "execution_count": 142,
   "metadata": {},
   "outputs": [],
   "source": [
    "#a custom defined function to be called on certain rows \n",
    "#this returns the products of 2 columns and rounds the answer up to 2dp\n",
    "def Total_Cost(x,y):\n",
    "    total = F.round((x * y),2)\n",
    "    return total\n",
    "\n",
    "#this returns the absolute value of a number \n",
    "def Absolute_Val(x):\n",
    "    x = F.abs(x)\n",
    "    return x"
   ]
  },
  {
   "cell_type": "code",
   "execution_count": 169,
   "metadata": {},
   "outputs": [],
   "source": [
    "#here, we create a new column (Total) which is the product of quantity and price,\n",
    "#convert the negative values in quantity to positive values, \n",
    "#and negative prices to positive prices\n",
    "\n",
    "df_spark_retail \\\n",
    "    .withColumn(\"Total\", Absolute_Val(Total_Cost(F.col(\"Quantity\"), F.col(\"Price\"))))  \\\n",
    "    .withColumn(\"Quantity\", Absolute_Val(F.col(\"Quantity\"))) \\\n",
    "    .withColumn(\"Price\", Absolute_Val(F.col(\"Price\"))) \\\n",
    "    .repartition(10)\\\n",
    "    .write.parquet('online_retail', mode='overwrite')"
   ]
  },
  {
   "cell_type": "code",
   "execution_count": 170,
   "metadata": {},
   "outputs": [
    {
     "name": "stdout",
     "output_type": "stream",
     "text": [
      "+-------+---------+--------------------+--------+-------------------+-----+----------+--------------+-----+\n",
      "|Invoice|StockCode|         Description|Quantity|        InvoiceDate|Price|CustomerID|       Country|Total|\n",
      "+-------+---------+--------------------+--------+-------------------+-----+----------+--------------+-----+\n",
      "| 492079|    85042|ANTIQUE LILY FAIR...|       8|2009-12-15 13:49:00| 4.95|     15070|United Kingdom| 39.6|\n",
      "| 558813|    22134|MINI LADLE LOVE H...|      12|2011-07-04 11:42:00| 0.42|     12682|        France| 5.04|\n",
      "| 563155|    21240|   BLUE POLKADOT CUP|       5|2011-08-12 11:48:00| 0.85|     13069|United Kingdom| 4.25|\n",
      "| 579297|   85099C|JUMBO  BAG BAROQU...|       5|2011-11-29 11:23:00| 4.13|         0|United Kingdom|20.65|\n",
      "| 581219|    21012|ANTIQUE ALL GLASS...|       2|2011-12-08 09:28:00| 2.46|         0|United Kingdom| 4.92|\n",
      "| 545719|    22870|NUMBER TILE COTTA...|       8|2011-03-07 10:28:00| 1.95|     13344|United Kingdom| 15.6|\n",
      "| 523868|    21181|PLEASE ONE PERSON...|       6|2010-09-24 12:48:00|  2.1|     15044|United Kingdom| 12.6|\n",
      "| 504766|    22561|WOODEN SCHOOL COL...|      12|2010-04-16 11:51:00| 1.65|     13013|United Kingdom| 19.8|\n",
      "| 580513|    23076|ICE CREAM SUNDAE ...|      24|2011-12-04 13:59:00| 1.25|     14456|United Kingdom| 30.0|\n",
      "| 494416|   84559A|3D SHEET OF DOG S...|      12|2010-01-14 10:56:00| 0.85|     17469|United Kingdom| 10.2|\n",
      "| 524446|    85227|SET OF 6 3D KIT C...|       3|2010-09-29 11:19:00| 0.85|     14049|United Kingdom| 2.55|\n",
      "| 496926|    22094|RED POLKA DOT TIS...|       1|2010-02-04 16:16:00| 1.25|     17965|United Kingdom| 1.25|\n",
      "| 538508|    20956|PORCELAIN T-LIGHT...|      12|2010-12-12 13:32:00| 1.25|     15998|United Kingdom| 15.0|\n",
      "| 504921|   90039B|FIRE POLISHED GLA...|       1|2010-04-19 10:43:00| 3.81|         0|United Kingdom| 3.81|\n",
      "| 569229|    22938|CUPCAKE LACE PAPE...|      12|2011-10-02 14:56:00| 1.95|     14502|United Kingdom| 23.4|\n",
      "| 521172|   85184D|S/4 BLUE ROUND DE...|       6|2010-09-02 15:35:00| 2.95|     12451|   Switzerland| 17.7|\n",
      "| 507227|    21333| CLASSIC WHITE FRAME|       8|2010-05-06 19:49:00| 2.95|     15955|United Kingdom| 23.6|\n",
      "| 572121|    23280|FOLDING BUTTERFLY...|      12|2011-10-20 19:51:00| 0.83|     17092|United Kingdom| 9.96|\n",
      "| 566258|    22630|DOLLY GIRL LUNCH BOX|       8|2011-09-11 12:45:00| 1.95|     13124|United Kingdom| 15.6|\n",
      "| 503061|    22353|LUNCHBOX WITH CUT...|      12|2010-03-29 16:47:00| 5.95|         0|United Kingdom| 71.4|\n",
      "+-------+---------+--------------------+--------+-------------------+-----+----------+--------------+-----+\n",
      "only showing top 20 rows\n",
      "\n"
     ]
    }
   ],
   "source": [
    "df_spark_retail.show()"
   ]
  },
  {
   "cell_type": "code",
   "execution_count": 171,
   "metadata": {},
   "outputs": [],
   "source": [
    "#reading the new_data written above(online_retail_cleaned)\n",
    "df_spark_retail  = spark.read \\\n",
    "    .option(\"header\", \"true\") \\\n",
    "    .parquet('online_retail')"
   ]
  },
  {
   "cell_type": "code",
   "execution_count": 172,
   "metadata": {},
   "outputs": [],
   "source": [
    "#Before writing sql on table, we have to make it readable in spark sql\n",
    "df_spark_retail.registerTempTable('df_spark_retail')"
   ]
  },
  {
   "cell_type": "code",
   "execution_count": 173,
   "metadata": {},
   "outputs": [
    {
     "data": {
      "text/plain": [
       "1067371"
      ]
     },
     "execution_count": 173,
     "metadata": {},
     "output_type": "execute_result"
    }
   ],
   "source": [
    "#here we check the total amount of items in the columns which was 1067371\n",
    "df_spark_retail.count()"
   ]
  },
  {
   "cell_type": "code",
   "execution_count": 174,
   "metadata": {},
   "outputs": [],
   "source": [
    "#this SQl was used to view the columns before and after modifications\n",
    "\n",
    "\n",
    "df_spark_retail = spark.sql(\"\"\"\n",
    "SELECT\n",
    "    *\n",
    "FROM\n",
    "    df_spark_retail \n",
    "\"\"\")"
   ]
  },
  {
   "cell_type": "code",
   "execution_count": 175,
   "metadata": {},
   "outputs": [
    {
     "data": {
      "text/plain": [
       "1067371"
      ]
     },
     "execution_count": 175,
     "metadata": {},
     "output_type": "execute_result"
    }
   ],
   "source": [
    "#we see that 1067371 items were returned, which is total\n",
    "df_spark_retail.count()"
   ]
  },
  {
   "cell_type": "code",
   "execution_count": 176,
   "metadata": {},
   "outputs": [],
   "source": [
    "#here we check the qty of invoice that had \"c\" in them, which indicates goods that were returned \n",
    "#according to the meta data\n",
    "df_spark_retail_C = spark.sql(\"\"\"\n",
    "SELECT\n",
    "    count(1)\n",
    "FROM\n",
    "    df_spark_retail \n",
    "WHERE\n",
    "    Invoice LIKE 'C%'\n",
    "\n",
    "\"\"\")"
   ]
  },
  {
   "cell_type": "code",
   "execution_count": 177,
   "metadata": {},
   "outputs": [
    {
     "name": "stdout",
     "output_type": "stream",
     "text": [
      "+--------+\n",
      "|count(1)|\n",
      "+--------+\n",
      "|   19494|\n",
      "+--------+\n",
      "\n"
     ]
    }
   ],
   "source": [
    "df_spark_retail_C.show()"
   ]
  },
  {
   "cell_type": "code",
   "execution_count": 178,
   "metadata": {},
   "outputs": [
    {
     "data": {
      "text/plain": [
       "1047877"
      ]
     },
     "execution_count": 178,
     "metadata": {},
     "output_type": "execute_result"
    }
   ],
   "source": [
    "#here we check the qty of items after removing the ones that were returned, \n",
    "#to see if it adds up to the total\n",
    "#1047877 + 19494 = 1067371\n",
    "df_spark_retail.where(~F.col(\"Invoice\").like(\"C%\")).count()"
   ]
  },
  {
   "cell_type": "code",
   "execution_count": 180,
   "metadata": {},
   "outputs": [],
   "source": [
    "#df_spark_retail(F.col(\"Invoice\").startsWith(\"C\")).show()\n",
    "df_spark_retail_Final = df_spark_retail.where(~F.col(\"Invoice\").like(\"C%\"))"
   ]
  },
  {
   "cell_type": "code",
   "execution_count": 182,
   "metadata": {},
   "outputs": [],
   "source": [
    "df_spark_retail_Final.write.parquet('online_retail_cleaned', mode='overwrite')"
   ]
  },
  {
   "cell_type": "code",
   "execution_count": 183,
   "metadata": {},
   "outputs": [],
   "source": [
    "#reading the new_data\n",
    "df_spark_retail_final  = spark.read \\\n",
    "    .option(\"header\", \"true\") \\\n",
    "    .parquet('online_retail_cleaned')"
   ]
  },
  {
   "cell_type": "code",
   "execution_count": 184,
   "metadata": {},
   "outputs": [
    {
     "name": "stdout",
     "output_type": "stream",
     "text": [
      "+-------+---------+--------------------+--------+-------------------+-----+----------+--------------+-----+\n",
      "|Invoice|StockCode|         Description|Quantity|        InvoiceDate|Price|CustomerID|       Country|Total|\n",
      "+-------+---------+--------------------+--------+-------------------+-----+----------+--------------+-----+\n",
      "| 568346|    22960|JAM MAKING SET WI...|       5|2011-09-26 15:28:00| 8.29|     14096|United Kingdom|41.45|\n",
      "| 518795|    21535|RED RETROSPOT SMA...|       6|2010-08-12 10:03:00| 2.55|     14276|United Kingdom| 15.3|\n",
      "| 548863|    21389|IVORY HANGING DEC...|      24|2011-04-04 13:57:00| 0.85|     15311|United Kingdom| 20.4|\n",
      "| 553011|    20724|RED RETROSPOT CHA...|      10|2011-05-12 17:03:00| 0.85|     14390|United Kingdom|  8.5|\n",
      "| 557937|    22059|CERAMIC STRAWBERR...|       2|2011-06-23 15:30:00| 3.29|         0|United Kingdom| 6.58|\n",
      "| 525071|    21212|PACK OF 72 RETROS...|      24|2010-10-03 14:50:00| 0.55|     12583|        France| 13.2|\n",
      "| 540681|   85180A|RED HEARTS LIGHT ...|       4|2011-01-10 16:25:00| 2.51|         0|United Kingdom|10.04|\n",
      "| 491831|    21291|SMALL SPOTTY CHOC...|       5|2009-12-14 14:33:00| 0.85|     17961|United Kingdom| 4.25|\n",
      "| 496872|    21388|IVORY HANGING DEC...|       4|2010-02-04 13:34:00| 0.85|     14648|United Kingdom|  3.4|\n",
      "| 491041|    21784|     SHOE SHINE BOX |       1|2009-12-09 09:42:00| 21.7|         0|United Kingdom| 21.7|\n",
      "| 489802|    21508|VINTAGE KID DOLLY...|      12|2009-12-02 12:32:00| 0.42|     15581|United Kingdom| 5.04|\n",
      "| 515759|    22184|CAKE STAND VICTOR...|       1|2010-07-14 13:37:00|16.98|         0|United Kingdom|16.98|\n",
      "| 574307|    21993|FLORAL FOLK STATI...|      12|2011-11-03 16:40:00| 1.25|     15809|United Kingdom| 15.0|\n",
      "| 503195|    22582|PACK OF 6 SWEETIE...|       1|2010-03-30 15:25:00| 2.55|     15742|United Kingdom| 2.55|\n",
      "| 502248|    22423|REGENCY CAKESTAND...|       2|2010-03-23 14:06:00|25.49|         0|United Kingdom|50.98|\n",
      "| 540026|    85055|FRENCH ENAMEL UTE...|       1|2011-01-04 13:25:00| 7.62|         0|United Kingdom| 7.62|\n",
      "| 541279|    22131|FOOD CONTAINER SE...|       6|2011-01-17 11:55:00| 1.95|     18223|United Kingdom| 11.7|\n",
      "| 542219|    22937|BAKING MOULD CHOC...|       6|2011-01-26 12:36:00| 2.55|     17735|United Kingdom| 15.3|\n",
      "| 576645|    84978|HANGING HEART JAR...|      12|2011-11-16 10:14:00| 1.25|     16245|United Kingdom| 15.0|\n",
      "| 545681|    22138|BAKING SET 9 PIEC...|       2|2011-03-06 11:28:00| 4.95|     16923|United Kingdom|  9.9|\n",
      "+-------+---------+--------------------+--------+-------------------+-----+----------+--------------+-----+\n",
      "only showing top 20 rows\n",
      "\n"
     ]
    }
   ],
   "source": [
    "df_spark_retail_final.show()"
   ]
  },
  {
   "cell_type": "code",
   "execution_count": 185,
   "metadata": {},
   "outputs": [
    {
     "data": {
      "text/plain": [
       "1047877"
      ]
     },
     "execution_count": 185,
     "metadata": {},
     "output_type": "execute_result"
    }
   ],
   "source": [
    "df_spark_retail_final.where(~F.col(\"Invoice\").like(\"C%\")).count()"
   ]
  },
  {
   "cell_type": "code",
   "execution_count": 186,
   "metadata": {},
   "outputs": [
    {
     "data": {
      "text/html": [
       "<div>\n",
       "<style scoped>\n",
       "    .dataframe tbody tr th:only-of-type {\n",
       "        vertical-align: middle;\n",
       "    }\n",
       "\n",
       "    .dataframe tbody tr th {\n",
       "        vertical-align: top;\n",
       "    }\n",
       "\n",
       "    .dataframe thead th {\n",
       "        text-align: right;\n",
       "    }\n",
       "</style>\n",
       "<table border=\"1\" class=\"dataframe\">\n",
       "  <thead>\n",
       "    <tr style=\"text-align: right;\">\n",
       "      <th></th>\n",
       "      <th>Invoice</th>\n",
       "      <th>StockCode</th>\n",
       "      <th>Description</th>\n",
       "      <th>Quantity</th>\n",
       "      <th>InvoiceDate</th>\n",
       "      <th>Price</th>\n",
       "      <th>CustomerID</th>\n",
       "      <th>Country</th>\n",
       "      <th>Total</th>\n",
       "    </tr>\n",
       "  </thead>\n",
       "  <tbody>\n",
       "    <tr>\n",
       "      <th>0</th>\n",
       "      <td>568346</td>\n",
       "      <td>22960</td>\n",
       "      <td>JAM MAKING SET WITH JARS</td>\n",
       "      <td>5</td>\n",
       "      <td>2011-09-26 13:28:00</td>\n",
       "      <td>8.29</td>\n",
       "      <td>14096</td>\n",
       "      <td>United Kingdom</td>\n",
       "      <td>41.45</td>\n",
       "    </tr>\n",
       "    <tr>\n",
       "      <th>1</th>\n",
       "      <td>518795</td>\n",
       "      <td>21535</td>\n",
       "      <td>RED RETROSPOT SMALL MILK JUG</td>\n",
       "      <td>6</td>\n",
       "      <td>2010-08-12 08:03:00</td>\n",
       "      <td>2.55</td>\n",
       "      <td>14276</td>\n",
       "      <td>United Kingdom</td>\n",
       "      <td>15.30</td>\n",
       "    </tr>\n",
       "    <tr>\n",
       "      <th>2</th>\n",
       "      <td>548863</td>\n",
       "      <td>21389</td>\n",
       "      <td>IVORY HANGING DECORATION  BIRD</td>\n",
       "      <td>24</td>\n",
       "      <td>2011-04-04 11:57:00</td>\n",
       "      <td>0.85</td>\n",
       "      <td>15311</td>\n",
       "      <td>United Kingdom</td>\n",
       "      <td>20.40</td>\n",
       "    </tr>\n",
       "    <tr>\n",
       "      <th>3</th>\n",
       "      <td>553011</td>\n",
       "      <td>20724</td>\n",
       "      <td>RED RETROSPOT CHARLOTTE BAG</td>\n",
       "      <td>10</td>\n",
       "      <td>2011-05-12 15:03:00</td>\n",
       "      <td>0.85</td>\n",
       "      <td>14390</td>\n",
       "      <td>United Kingdom</td>\n",
       "      <td>8.50</td>\n",
       "    </tr>\n",
       "    <tr>\n",
       "      <th>4</th>\n",
       "      <td>557937</td>\n",
       "      <td>22059</td>\n",
       "      <td>CERAMIC STRAWBERRY DESIGN MUG</td>\n",
       "      <td>2</td>\n",
       "      <td>2011-06-23 13:30:00</td>\n",
       "      <td>3.29</td>\n",
       "      <td>0</td>\n",
       "      <td>United Kingdom</td>\n",
       "      <td>6.58</td>\n",
       "    </tr>\n",
       "    <tr>\n",
       "      <th>...</th>\n",
       "      <td>...</td>\n",
       "      <td>...</td>\n",
       "      <td>...</td>\n",
       "      <td>...</td>\n",
       "      <td>...</td>\n",
       "      <td>...</td>\n",
       "      <td>...</td>\n",
       "      <td>...</td>\n",
       "      <td>...</td>\n",
       "    </tr>\n",
       "    <tr>\n",
       "      <th>1047872</th>\n",
       "      <td>525879</td>\n",
       "      <td>22382</td>\n",
       "      <td>LUNCH BAG SPACEBOY DESIGN</td>\n",
       "      <td>10</td>\n",
       "      <td>2010-10-07 12:24:00</td>\n",
       "      <td>1.65</td>\n",
       "      <td>15228</td>\n",
       "      <td>United Kingdom</td>\n",
       "      <td>16.50</td>\n",
       "    </tr>\n",
       "    <tr>\n",
       "      <th>1047873</th>\n",
       "      <td>549568</td>\n",
       "      <td>21080</td>\n",
       "      <td>SET/20 RED RETROSPOT PAPER NAPKINS</td>\n",
       "      <td>12</td>\n",
       "      <td>2011-04-10 13:09:00</td>\n",
       "      <td>0.85</td>\n",
       "      <td>15665</td>\n",
       "      <td>United Kingdom</td>\n",
       "      <td>10.20</td>\n",
       "    </tr>\n",
       "    <tr>\n",
       "      <th>1047874</th>\n",
       "      <td>511259</td>\n",
       "      <td>22503</td>\n",
       "      <td>CABIN BAG VINTAGE PAISLEY</td>\n",
       "      <td>1</td>\n",
       "      <td>2010-06-07 10:42:00</td>\n",
       "      <td>29.95</td>\n",
       "      <td>16382</td>\n",
       "      <td>United Kingdom</td>\n",
       "      <td>29.95</td>\n",
       "    </tr>\n",
       "    <tr>\n",
       "      <th>1047875</th>\n",
       "      <td>556244</td>\n",
       "      <td>22467</td>\n",
       "      <td>GUMBALL COAT RACK</td>\n",
       "      <td>2</td>\n",
       "      <td>2011-06-09 14:08:00</td>\n",
       "      <td>2.55</td>\n",
       "      <td>15867</td>\n",
       "      <td>United Kingdom</td>\n",
       "      <td>5.10</td>\n",
       "    </tr>\n",
       "    <tr>\n",
       "      <th>1047876</th>\n",
       "      <td>512593</td>\n",
       "      <td>21188</td>\n",
       "      <td>3D HEARTS  HONEYCOMB PAPER GARLAND</td>\n",
       "      <td>24</td>\n",
       "      <td>2010-06-16 14:42:00</td>\n",
       "      <td>2.95</td>\n",
       "      <td>15381</td>\n",
       "      <td>United Kingdom</td>\n",
       "      <td>70.80</td>\n",
       "    </tr>\n",
       "  </tbody>\n",
       "</table>\n",
       "<p>1047877 rows × 9 columns</p>\n",
       "</div>"
      ],
      "text/plain": [
       "        Invoice StockCode                          Description  Quantity  \\\n",
       "0        568346     22960             JAM MAKING SET WITH JARS         5   \n",
       "1        518795     21535         RED RETROSPOT SMALL MILK JUG         6   \n",
       "2        548863     21389       IVORY HANGING DECORATION  BIRD        24   \n",
       "3        553011     20724          RED RETROSPOT CHARLOTTE BAG        10   \n",
       "4        557937     22059        CERAMIC STRAWBERRY DESIGN MUG         2   \n",
       "...         ...       ...                                  ...       ...   \n",
       "1047872  525879     22382           LUNCH BAG SPACEBOY DESIGN         10   \n",
       "1047873  549568     21080  SET/20 RED RETROSPOT PAPER NAPKINS         12   \n",
       "1047874  511259     22503            CABIN BAG VINTAGE PAISLEY         1   \n",
       "1047875  556244     22467                    GUMBALL COAT RACK         2   \n",
       "1047876  512593     21188   3D HEARTS  HONEYCOMB PAPER GARLAND        24   \n",
       "\n",
       "                InvoiceDate  Price  CustomerID         Country  Total  \n",
       "0       2011-09-26 13:28:00   8.29       14096  United Kingdom  41.45  \n",
       "1       2010-08-12 08:03:00   2.55       14276  United Kingdom  15.30  \n",
       "2       2011-04-04 11:57:00   0.85       15311  United Kingdom  20.40  \n",
       "3       2011-05-12 15:03:00   0.85       14390  United Kingdom   8.50  \n",
       "4       2011-06-23 13:30:00   3.29           0  United Kingdom   6.58  \n",
       "...                     ...    ...         ...             ...    ...  \n",
       "1047872 2010-10-07 12:24:00   1.65       15228  United Kingdom  16.50  \n",
       "1047873 2011-04-10 13:09:00   0.85       15665  United Kingdom  10.20  \n",
       "1047874 2010-06-07 10:42:00  29.95       16382  United Kingdom  29.95  \n",
       "1047875 2011-06-09 14:08:00   2.55       15867  United Kingdom   5.10  \n",
       "1047876 2010-06-16 14:42:00   2.95       15381  United Kingdom  70.80  \n",
       "\n",
       "[1047877 rows x 9 columns]"
      ]
     },
     "execution_count": 186,
     "metadata": {},
     "output_type": "execute_result"
    }
   ],
   "source": [
    "df = pd.read_parquet('online_retail_cleaned')\n",
    "df = pd.DataFrame(df) \n",
    "df"
   ]
  },
  {
   "cell_type": "code",
   "execution_count": 187,
   "metadata": {},
   "outputs": [],
   "source": [
    "#reading the new_data\n",
    "df_spark_retail  = spark.read \\\n",
    "    .option(\"header\", \"true\") \\\n",
    "    .parquet('online_retail_cleaned')"
   ]
  },
  {
   "cell_type": "code",
   "execution_count": 188,
   "metadata": {},
   "outputs": [
    {
     "name": "stdout",
     "output_type": "stream",
     "text": [
      "+-------+---------+--------------------+--------+-------------------+-----+----------+--------------+-----+\n",
      "|Invoice|StockCode|         Description|Quantity|        InvoiceDate|Price|CustomerID|       Country|Total|\n",
      "+-------+---------+--------------------+--------+-------------------+-----+----------+--------------+-----+\n",
      "| 568346|    22960|JAM MAKING SET WI...|       5|2011-09-26 15:28:00| 8.29|     14096|United Kingdom|41.45|\n",
      "| 518795|    21535|RED RETROSPOT SMA...|       6|2010-08-12 10:03:00| 2.55|     14276|United Kingdom| 15.3|\n",
      "| 548863|    21389|IVORY HANGING DEC...|      24|2011-04-04 13:57:00| 0.85|     15311|United Kingdom| 20.4|\n",
      "| 553011|    20724|RED RETROSPOT CHA...|      10|2011-05-12 17:03:00| 0.85|     14390|United Kingdom|  8.5|\n",
      "| 557937|    22059|CERAMIC STRAWBERR...|       2|2011-06-23 15:30:00| 3.29|         0|United Kingdom| 6.58|\n",
      "| 525071|    21212|PACK OF 72 RETROS...|      24|2010-10-03 14:50:00| 0.55|     12583|        France| 13.2|\n",
      "| 540681|   85180A|RED HEARTS LIGHT ...|       4|2011-01-10 16:25:00| 2.51|         0|United Kingdom|10.04|\n",
      "| 491831|    21291|SMALL SPOTTY CHOC...|       5|2009-12-14 14:33:00| 0.85|     17961|United Kingdom| 4.25|\n",
      "| 496872|    21388|IVORY HANGING DEC...|       4|2010-02-04 13:34:00| 0.85|     14648|United Kingdom|  3.4|\n",
      "| 491041|    21784|     SHOE SHINE BOX |       1|2009-12-09 09:42:00| 21.7|         0|United Kingdom| 21.7|\n",
      "| 489802|    21508|VINTAGE KID DOLLY...|      12|2009-12-02 12:32:00| 0.42|     15581|United Kingdom| 5.04|\n",
      "| 515759|    22184|CAKE STAND VICTOR...|       1|2010-07-14 13:37:00|16.98|         0|United Kingdom|16.98|\n",
      "| 574307|    21993|FLORAL FOLK STATI...|      12|2011-11-03 16:40:00| 1.25|     15809|United Kingdom| 15.0|\n",
      "| 503195|    22582|PACK OF 6 SWEETIE...|       1|2010-03-30 15:25:00| 2.55|     15742|United Kingdom| 2.55|\n",
      "| 502248|    22423|REGENCY CAKESTAND...|       2|2010-03-23 14:06:00|25.49|         0|United Kingdom|50.98|\n",
      "| 540026|    85055|FRENCH ENAMEL UTE...|       1|2011-01-04 13:25:00| 7.62|         0|United Kingdom| 7.62|\n",
      "| 541279|    22131|FOOD CONTAINER SE...|       6|2011-01-17 11:55:00| 1.95|     18223|United Kingdom| 11.7|\n",
      "| 542219|    22937|BAKING MOULD CHOC...|       6|2011-01-26 12:36:00| 2.55|     17735|United Kingdom| 15.3|\n",
      "| 576645|    84978|HANGING HEART JAR...|      12|2011-11-16 10:14:00| 1.25|     16245|United Kingdom| 15.0|\n",
      "| 545681|    22138|BAKING SET 9 PIEC...|       2|2011-03-06 11:28:00| 4.95|     16923|United Kingdom|  9.9|\n",
      "+-------+---------+--------------------+--------+-------------------+-----+----------+--------------+-----+\n",
      "only showing top 20 rows\n",
      "\n"
     ]
    }
   ],
   "source": [
    "df_spark_retail.show()"
   ]
  },
  {
   "cell_type": "code",
   "execution_count": null,
   "metadata": {},
   "outputs": [],
   "source": []
  },
  {
   "cell_type": "code",
   "execution_count": 1,
   "metadata": {},
   "outputs": [
    {
     "name": "stdout",
     "output_type": "stream",
     "text": [
      "Copying file://online_retail_cleaned/.part-00001-d3c29033-f07f-48f9-8dc5-58eeb8bb0104-c000.snappy.parquet.crc [Content-Type=application/octet-stream]...\n",
      "Copying file://online_retail_cleaned/part-00002-d3c29033-f07f-48f9-8dc5-58eeb8bb0104-c000.snappy.parquet [Content-Type=application/octet-stream]...\n",
      "Copying file://online_retail_cleaned/._SUCCESS.crc [Content-Type=application/octet-stream]...\n",
      "Copying file://online_retail_cleaned/part-00003-d3c29033-f07f-48f9-8dc5-58eeb8bb0104-c000.snappy.parquet [Content-Type=application/octet-stream]...\n",
      "Copying file://online_retail_cleaned/_SUCCESS [Content-Type=application/octet-stream]...\n",
      "Copying file://online_retail_cleaned/.part-00002-d3c29033-f07f-48f9-8dc5-58eeb8bb0104-c000.snappy.parquet.crc [Content-Type=application/octet-stream]...\n",
      "Copying file://online_retail_cleaned/.part-00003-d3c29033-f07f-48f9-8dc5-58eeb8bb0104-c000.snappy.parquet.crc [Content-Type=application/octet-stream]...\n",
      "Copying file://online_retail_cleaned/part-00000-d3c29033-f07f-48f9-8dc5-58eeb8bb0104-c000.snappy.parquet [Content-Type=application/octet-stream]...\n",
      "Copying file://online_retail_cleaned/.part-00000-d3c29033-f07f-48f9-8dc5-58eeb8bb0104-c000.snappy.parquet.crc [Content-Type=application/octet-stream]...\n",
      "Copying file://online_retail_cleaned/part-00001-d3c29033-f07f-48f9-8dc5-58eeb8bb0104-c000.snappy.parquet [Content-Type=application/octet-stream]...\n",
      "\\ [10/10 files][ 15.0 MiB/ 15.0 MiB] 100% Done                                  \n",
      "Operation completed over 10 objects/15.0 MiB.                                    \n"
     ]
    }
   ],
   "source": [
    "#upload to bucket\n",
    "!gsutil -m cp -r online_retail_cleaned/ gs://online-retail11401/kaggle_cleaned/online_retail_cleaned"
   ]
  },
  {
   "cell_type": "code",
   "execution_count": 400,
   "metadata": {},
   "outputs": [
    {
     "name": "stdout",
     "output_type": "stream",
     "text": [
      "dataset  df_retail  df_spark  online_retail_cleaned  online-retail.ipynb\r\n"
     ]
    }
   ],
   "source": [
    "!ls\n"
   ]
  },
  {
   "cell_type": "code",
   "execution_count": null,
   "metadata": {},
   "outputs": [],
   "source": []
  }
 ],
 "metadata": {
  "kernelspec": {
   "display_name": "Python 3",
   "language": "python",
   "name": "python3"
  },
  "language_info": {
   "codemirror_mode": {
    "name": "ipython",
    "version": 3
   },
   "file_extension": ".py",
   "mimetype": "text/x-python",
   "name": "python",
   "nbconvert_exporter": "python",
   "pygments_lexer": "ipython3",
   "version": "3.8.10"
  }
 },
 "nbformat": 4,
 "nbformat_minor": 4
}
